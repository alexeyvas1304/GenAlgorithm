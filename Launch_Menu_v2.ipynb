{
 "cells": [
  {
   "cell_type": "markdown",
   "metadata": {},
   "source": [
    "# Импортируем класс для чтения вводимых данных: Menu_of_classic_genetic_algoritm"
   ]
  },
  {
   "cell_type": "code",
   "execution_count": 7,
   "metadata": {},
   "outputs": [],
   "source": [
    "from Menu_v2 import Menu_of_classic_genetic_algorithm as Menu"
   ]
  },
  {
   "cell_type": "markdown",
   "metadata": {},
   "source": [
    "# Класс принимает на вход словарь в формате:\n",
    "## {\"task\": \"(Название задачи)\", \"options\": [{\"(Название параметра 1)\": None, \"type\": \"(Тип данных для этого параметра)\"}, {\"(Название параметра 2)\": None, \"type\": \"(Тип данных для этого параметра)\"}]}"
   ]
  },
  {
   "cell_type": "markdown",
   "metadata": {},
   "source": [
    "* Есть поддержка значений по умолчанию, тогда вместо 'None' пишите значение по умолчанию. В этом случае, если вы ничего не вводите и нажимаете Enter, то будет значение по умолчанию. \n",
    "* Помимо параметров конкретной задачи в этот словарь можно записать параметр порога для отбора в новую популяцию методом усечения (trunc). Но тогда задать его надо в точности как в примере ниже"
   ]
  },
  {
   "cell_type": "markdown",
   "metadata": {},
   "source": [
    "# Поддерживаемые типы данных:\n",
    "\n",
    "1. real - вещественные числа\n",
    "2. positive - положительные числа\n",
    "3. natural - натуральные числа\n",
    "4. probability - тип для вероятностей, число принадлежит диапазону [0, 1]\n",
    "5. threshold - тип для порога из trunc, число принадлежит диапазону (0, 1]\n",
    "6. filename - тип для файлов, если нужно работать с файлами, то функция проверит, что файл существует\n",
    "7. str - используется для строковых значений\n",
    "8. Также есть поддержка основных типов int, float - если будете их использовать, то ошибки и невалидные данные обрабатывайте сами!!!\n",
    "\n",
    "** Типы данных указываются в словаре в кавычках"
   ]
  },
  {
   "cell_type": "markdown",
   "metadata": {},
   "source": [
    "# Дополнительные возможности\n",
    "В \"type\" можно передать список. Например: {... \"type\": [1, 2, 3]}.\n",
    "Тогда будет появляться меню с вариантами из этого списка. В этом случае пользователь будет ограничен вариантами из этого списка. В качестве значения по умолчанию можно установить значение из этого списка, но если пользователь выбирает какой-то из вариантов, то он должен написать номер этого варианта. В итоговые значения записывается выбранный вариант."
   ]
  },
  {
   "cell_type": "markdown",
   "metadata": {},
   "source": [
    "### Примеры словарей для \"Отбора признаков\" и \"Коммивояжера\" (с пороговым значением)"
   ]
  },
  {
   "cell_type": "code",
   "execution_count": null,
   "metadata": {},
   "outputs": [],
   "source": [
    "nn_optimization = {\"task\": \"nn_optimization\",\n",
    "                   \"options\": [{\"data\": \"nn_data.csv\", \"type\": \"dataset\"}, \n",
    "                               {\"target_name\": \"target\", \"type\": \"str\"}, \n",
    "                               {\"quality_type\": 4, \"type\": \"natural\"},\n",
    "                               {\"outbreed_freq\": 7, \"type\": \"natural\"},\n",
    "                               {\"n_epoch_mlp\": 40, \"type\": \"natural\"},\n",
    "                               {\"eps_mlp\": 20, \"type\": \"natural\"},\n",
    "                               {\"eta_mlp\": 0.5, \"type\": \"real\"},\n",
    "                               {\"threshold\": 0.2, \"type\": \"threshold\"},\n",
    "                               {\"elitism\": 0.1, \"type\": \"threshold\"}]}a"
   ]
  },
  {
   "cell_type": "code",
   "execution_count": null,
   "metadata": {},
   "outputs": [],
   "source": [
    "feature_selection = {\"task\": \"feature_selection\", \"options\": [{\"dataset\": None, \"type\": \"filename\"}]}\n",
    "travelling_salesman = {\"task\": \"travelling_salesman\", \"options\": [{\"n_cities\": None, \"type\": \"natural\"}, \n",
    "                                                                  {\"matrix\": None, \"type\": \"filename\"}]}"
   ]
  },
  {
   "cell_type": "markdown",
   "metadata": {},
   "source": [
    "### Пример работы программы"
   ]
  },
  {
   "cell_type": "code",
   "execution_count": null,
   "metadata": {},
   "outputs": [],
   "source": [
    "menu = Menu(travelling_salesman)"
   ]
  },
  {
   "cell_type": "markdown",
   "metadata": {},
   "source": [
    "### Вывод словаря с введенными значениями"
   ]
  },
  {
   "cell_type": "code",
   "execution_count": null,
   "metadata": {},
   "outputs": [],
   "source": [
    "# Cловарь с параметрами данной задачи\n",
    "menu.options"
   ]
  },
  {
   "cell_type": "markdown",
   "metadata": {},
   "source": [
    "### Примеры словарей для \"Отбора признаков\" и \"Коммивояжера\" со значениями по умолчанию"
   ]
  },
  {
   "cell_type": "code",
   "execution_count": null,
   "metadata": {},
   "outputs": [],
   "source": [
    "feature_selection_with_def_val = {\"task\": \"feature_selection\", \n",
    "                                  \"options\": [{\"dataset\": \"wine.csv\", \"type\": \"filename\"}]}\n",
    "travelling_salesman_with_def_val = {\"task\": \"travelling_salesman\", \n",
    "                                    \"options\": [{\"n_cities\": 10, \"type\": \"natural\"}, \n",
    "                                                {\"matrix\": \"test.csv\", \"type\": \"filename\"}]}"
   ]
  },
  {
   "cell_type": "markdown",
   "metadata": {},
   "source": [
    "### Пример работы программы для значений по умолчанию\n",
    "#### Я ничего не ввожу, просто нажимаю Enter"
   ]
  },
  {
   "cell_type": "code",
   "execution_count": null,
   "metadata": {},
   "outputs": [],
   "source": [
    "menu_for_def_val = Menu(feature_selection_with_def_val)"
   ]
  },
  {
   "cell_type": "code",
   "execution_count": null,
   "metadata": {},
   "outputs": [],
   "source": [
    "menu_for_def_val.options"
   ]
  },
  {
   "cell_type": "markdown",
   "metadata": {},
   "source": [
    "### Тестовый пример, для демонстрации передачи списка в \"type\""
   ]
  },
  {
   "cell_type": "code",
   "execution_count": null,
   "metadata": {},
   "outputs": [],
   "source": [
    "test_task = {\"task\": \"test_task\", \"options\": [{\"test_option\": None, \"type\": [11, 22, 33]}]}"
   ]
  },
  {
   "cell_type": "code",
   "execution_count": null,
   "metadata": {},
   "outputs": [],
   "source": [
    "test_menu = Menu(test_task)"
   ]
  },
  {
   "cell_type": "code",
   "execution_count": null,
   "metadata": {},
   "outputs": [],
   "source": [
    "# Созданный словарь\n",
    "test_menu.options"
   ]
  },
  {
   "cell_type": "markdown",
   "metadata": {},
   "source": [
    "# ---------------------------------------------------------------------------------------------------------------"
   ]
  },
  {
   "cell_type": "markdown",
   "metadata": {},
   "source": [
    "# Работа алгоритма на примере задачи отбора признаков"
   ]
  },
  {
   "cell_type": "markdown",
   "metadata": {},
   "source": [
    "### Создаем словарь по правилам, описанным выше."
   ]
  },
  {
   "cell_type": "code",
   "execution_count": 20,
   "metadata": {},
   "outputs": [],
   "source": [
    "from Menu_v2 import Menu_of_classic_genetic_algorithm as Menu\n",
    "feature_selection = {\"task\": \"feature_selection\", \n",
    "                                  \"options\": [{\"dataset\": \"wine.csv\", \"type\": \"filename\"},\n",
    "                                              {\"trunc_threshold\":0.7,\"type\":\"threshold\"}]}"
   ]
  },
  {
   "cell_type": "markdown",
   "metadata": {},
   "source": [
    "### Вводим параметры для алгоритма"
   ]
  },
  {
   "cell_type": "code",
   "execution_count": 21,
   "metadata": {},
   "outputs": [
    {
     "name": "stdout",
     "output_type": "stream",
     "text": [
      "Введите 'n_iter':\n",
      "\n",
      "30\n",
      "----------------------\n",
      "\n",
      "Введите 'eps':\n",
      "\n",
      "0.0001\n",
      "----------------------\n",
      "\n",
      "Выберите 'fitness_all_type'\n",
      "(hint: нужно ввести номер варианта):\n",
      "    1. average\n",
      "    2. maximum\n",
      "    3. minimum\n",
      "\n",
      "\n",
      "average\n",
      "----------------------\n",
      "\n",
      "Выберите 'parent_selection_type'\n",
      "(hint: нужно ввести номер варианта):\n",
      "    1. roulette_wheel\n",
      "    2. inbriding_phenotype\n",
      "    3. inbriding_genotype\n",
      "    4. panmixy\n",
      "\n",
      "\n",
      "roulette_wheel\n",
      "----------------------\n",
      "\n",
      "Выберите 'cross_type'\n",
      "(hint: нужно ввести номер варианта):\n",
      "    1. one_point\n",
      "\n",
      "\n",
      "one_point\n",
      "----------------------\n",
      "\n",
      "Введите 'p_cross':\n",
      "0.7\n",
      "----------------------\n",
      "\n",
      "Выберите 'mutation_type'\n",
      "(hint: нужно ввести номер варианта):\n",
      "    1. binary\n",
      "\n",
      "\n",
      "binary\n",
      "----------------------\n",
      "\n",
      "Введите 'p_mutation':\n",
      "0.4\n",
      "----------------------\n",
      "\n",
      "Выберите 'select_new_population_type'\n",
      "(hint: нужно ввести номер варианта):\n",
      "    1. elite\n",
      "    2. trunc\n",
      "    3. exclusion\n",
      "\n",
      "1\n",
      "\n",
      "1. elite\n",
      "----------------------\n",
      "\n",
      "Введите 'size_of_population':\n",
      "50\n",
      "----------------------\n",
      "\n",
      "Введите имя файла для 'dataset'\n",
      "(hint: файл должен находиться в текущей директории):\n",
      "\n",
      "wine.csv\n",
      "----------------------\n",
      "\n",
      "Введите 'trunc_threshold':\n",
      "0.8\n",
      "----------------------\n",
      "\n",
      "SUCCESSFUL\n"
     ]
    }
   ],
   "source": [
    "menu = Menu(feature_selection)"
   ]
  },
  {
   "cell_type": "markdown",
   "metadata": {},
   "source": [
    "### Смотрим, что мы ввели - именно этот словарь пойдет на вход алгоритму"
   ]
  },
  {
   "cell_type": "code",
   "execution_count": 22,
   "metadata": {},
   "outputs": [
    {
     "data": {
      "text/plain": [
       "{'task': 'feature_selection',\n",
       " 'n_iter': 30,\n",
       " 'eps': 0.0001,\n",
       " 'fitness_all_type': 'average',\n",
       " 'parent_selection_type': 'roulette_wheel',\n",
       " 'cross_type': 'one_point',\n",
       " 'p_cross': 0.7,\n",
       " 'mutation_type': 'binary',\n",
       " 'p_mutation': 0.4,\n",
       " 'select_new_population_type': 'elite',\n",
       " 'size_of_population': 50,\n",
       " 'dataset': 'wine.csv',\n",
       " 'trunc_threshold': 0.8}"
      ]
     },
     "execution_count": 22,
     "metadata": {},
     "output_type": "execute_result"
    }
   ],
   "source": [
    "menu.task_with_options"
   ]
  },
  {
   "cell_type": "code",
   "execution_count": 23,
   "metadata": {},
   "outputs": [],
   "source": [
    "#отключаем предупреждения - вы можете этого не делать\n",
    "import warnings\n",
    "warnings.filterwarnings(\"ignore\")"
   ]
  },
  {
   "cell_type": "markdown",
   "metadata": {},
   "source": [
    "## Внимание, очень важный этап !!!"
   ]
  },
  {
   "cell_type": "markdown",
   "metadata": {},
   "source": [
    "В следующем блоке импортируются блоки с функциями, написанными ВАМИ - то есть теми, кто делает прикладные\n",
    "задачи и теми, кто делал функции для каких-то этапов ГА\n",
    "\n",
    "Объяснения, что есть что:\n",
    "\n",
    "    1 строка - ОЧЕНЬ ВАЖНАЯ БИБЛИОТЕКА, НЕ ТРОГАЕМ\n",
    "    \n",
    "    2 строка - \"ДЛЯ ТЕХ, КТО ДЕЛАЕТ ПРИКЛАДНЫЕ ЗАДАЧИ\" -  импорт модуля КОНКРЕТНОЙ ЗАДАЧИ (в моем случае - \n",
    "    feature_selection (те, кто делают прикладные,могут назвать его как хотят, но лучше \n",
    "    чтоб не запутаться - так же, как вы назвали его в словаре)). В самом модуле (то есть в моем случае\n",
    "    в файле feature_selection.py ДОЛЖНО БЫТЬ ТРИ ФУНКЦИИ, которые отвечают за КОНКРЕТНУЮ ЗАДАЧУ):\n",
    "        а) Функция генерации популяции - на вход получает СЛОВАРЬ (тот самый, который вы заполняли), оттуда\n",
    "        вы достаете по ключу те атрибуты, которые вам нужны для генерации и работаете с ними. Функция должна\n",
    "        вернуть СПИСОК, каждый элемент списка - отдельная особь (желательно, чтоб особь была списком из чисел,\n",
    "        как у меня, иначе может случиться что-то непредвиденное)\n",
    "        b) Функция расчета приспособленности ОДНОЙ ОСОБИ - на вход получает тот же СЛОВАРЬ и ОТДЕЛЬНУЮ ОСОБЬ.\n",
    "        Также распаковываете словарь, считаете. Должна вернуть ЧИСЛО.\n",
    "        с) Функция,которая считает, допустима ли особь или нет.Опять-таки получает на вход СЛОВАРЬ (хотя, он \n",
    "        может и не понадобиться, все равно добавьте его в аргументы, иначе не будет работать) и ОСОБЬ. На \n",
    "        выходе - True (Допустимо) или False(Недопустимо). Если у вас всегда допустимо - просто возвращайте\n",
    "        True, функция обязательно должна существовать.\n",
    "    ЭТИ 3 ФУНКЦИИ ОБЯЗАТЕЛЬНО ДОЛЖНЫ НАЗЫВАТЬСЯ generate, fitness_one и validation соответственно.\n",
    "    Можете посмотреть пример в feature_selection.py\n",
    "    \n",
    "    \n",
    "    \n",
    "    3-7 строки - \"ДЛЯ ТЕХ, КТО ДЕЛАЕТ КОНКРЕТНЫЕ МЕТОДЫ АЛГОРИТМОВ\" - импорт всех функций из модуля для метода\n",
    "    выбора родителей, модуля для скрещиваний,модуля для мутаций,модуля отбора в новую популяцию и модуля для выбора метода расчтеа приспособленности всей популяции. Вы просто дописываете реализацию своей \n",
    "    функции в соответствующий файл (ИМЕННО В НЕГО)(пример - файл choose_parent_types_file.py, в котором уже определены 4   функции отбора родителей). Не могу точно сказать, что может быть входом и выходом для функции, но\n",
    "    настоятельно рекомендую постараться сделать как у меня, так как такой подход работает.\n",
    "    После того, как вы добавили свою функцию в файл, вам надо ее \"зарегистрировать\" в меню, иначе прикладники\n",
    "    просто не смогут ее выбрать. Надо зайти в файл Menu_v2.py, на строке 16 есть список self.common_options,\n",
    "    Ищете словарь для вашего этапа (например,строка 18 - словарь для метода выбора родителей. В этом словаре по ключу type хранится список доступных методов (например, на строке 18 - [\"roulette_wheel\",\"inbriding_phenotype\",...].Именно в этот список добавляете название вашей функции (ИМЕННО ТО, ПОД КОТОРЫМ ОНА НАЗВАНА В ФАЙЛЕ С РЕАЛИЗАЦИЕЙ\n",
    "    \n",
    "    8 строка - \"ДЛЯ ТЕХ, КТО ДЕЛАЕТ ПРИКЛАДНЫЕ ЗАДАЧИ\" - объявляем словарь, где ключ - название задачи из\n",
    "    того заполненного вами словаря, значение - то, что написали в 1 строке. Слово tasks не меняем\n",
    "    \n",
    "    ВСЁ, ЧТО НИЖЕ 7 СТРОКИ - НЕ МЕНЯЕМ (ЭТИ 2 СЛОВАРЯ СВЯЗЫВАЮТ ПАРАМЕТРЫ МЕНЮ И ВЫЗЫВАЕМЫЕ ФУНКЦИИ) !!!!!\n",
    "    "
   ]
  },
  {
   "cell_type": "code",
   "execution_count": null,
   "metadata": {
    "scrolled": true
   },
   "outputs": [],
   "source": [
    "from  importlib import import_module\n",
    "import feature_selection \n",
    "from choose_parent_types_file import *\n",
    "from cross_types_file import *\n",
    "from mutation_types_file import *\n",
    "from select_new_population_file import *\n",
    "from fitness_all_types_file import *\n",
    "\n",
    "d_task = {\"task\":import_module(menu.task_with_options[\"task\"])}\n",
    "d_functions = {\"parent_selection_type\":import_module(\"choose_parent_types_file\").__dict__[menu.options[\"parent_selection_type\"]],\n",
    "               \"cross_type\":import_module(\"cross_types_file\").__dict__[menu.options[\"cross_type\"]],\n",
    "               \"fitness_all_type\":import_module(\"fitness_all_types_file\").__dict__[menu.options[\"fitness_all_type\"]],\n",
    "               \"mutation_type\":import_module(\"mutation_types_file\").__dict__[menu.options[\"mutation_type\"]],\n",
    "               \"select_new_population_type\":import_module(\"select_new_population_file\").__dict__[menu.options[\"select_new_population_type\"]]}"
   ]
  },
  {
   "cell_type": "markdown",
   "metadata": {},
   "source": [
    "### Класс генетического алгоритма (специально не выносил в отдельный файл, чтобы был на виду)"
   ]
  },
  {
   "cell_type": "code",
   "execution_count": 31,
   "metadata": {},
   "outputs": [],
   "source": [
    "import copy\n",
    "from datetime import datetime\n",
    "\n",
    "class GA:\n",
    "    def __init__(self, d, d_task, d_functions):\n",
    "        \"\"\"\n",
    "        Инициализация экземпляра\n",
    "        Получает на вход словарь параметров алгоритма\n",
    "        и распаковывает с созданием\n",
    "        соответствующих атрибутов\n",
    "        \"\"\"\n",
    "        self.d = d\n",
    "        self.d_task = d_task\n",
    "        self.d_functions = d_functions\n",
    "        \n",
    "        for key,value in d.items():\n",
    "            setattr(self,key,value)\n",
    "        for key,value in d_task.items():\n",
    "            setattr(self,key,value)\n",
    "        for key,value in d_functions.items():\n",
    "            setattr(self,key,value)\n",
    "        \n",
    "            \n",
    "    def generate(self):\n",
    "        \"\"\"\n",
    "        Функция генерации популяции\n",
    "        Дергает функцию генерации, которую делали прикладники\n",
    "        Ничего не возвращает, но создает атрибут популяции, который\n",
    "        сохраняется и далее используется\n",
    "        \"\"\"\n",
    "        self.population = self.d_task[\"task\"].generate(self.d)\n",
    "    \n",
    "    def fitness_one (self, osob):\n",
    "        \"\"\"\n",
    "        Функция приспособленности особи\n",
    "        Получает на вход ОСОБЬ\n",
    "        Дергает функцию прикладников\n",
    "        Возвращает приспособленность особи\n",
    "        \"\"\"\n",
    "        return self.d_task[\"task\"].fitness_one(self.d, osob)\n",
    "    \n",
    "    def validation(self,osob):\n",
    "        \"\"\"\n",
    "        Функция проверки особи на допустимость\n",
    "        Получает на вход особь\n",
    "        Дергает функцию прикладников\n",
    "        возвращает True/False\n",
    "        \"\"\"\n",
    "        return self.d_task[\"task\"].validation(self.d, osob)\n",
    "    \n",
    "    def fitness_all(self):\n",
    "        \"\"\"\n",
    "        Функция приспособленности популяции\n",
    "        Дергает функцию, которую я и делал\n",
    "        Возвращает приспособленность популяции\n",
    "        \"\"\"\n",
    "        return self.d_functions[\"fitness_all_type\"](self.fitnesses)\n",
    "        \n",
    "        \n",
    "    def choose_parent(self):\n",
    "        \"\"\"\n",
    "        Функция выбора соседей.\n",
    "        Если у нас n особей в популяции,\n",
    "        то создается n//2 пар родителей,\n",
    "        которые ПОТЕНЦИАЛЬНО могут скреститься\n",
    "        Дергает функцию выбора родителей, которая\n",
    "        в свою очередь возвращает список из двух номеров \n",
    "        особей, которые станут родителями\n",
    "        Возвращает список из списков по два элемента с НОМЕРАМИ родителей в популяции\n",
    "        (НЕ самими родителями)\n",
    "        \"\"\"\n",
    "        lst_of_parents = []\n",
    "        \n",
    "        if self.d['parent_selection_type']=='choose_parent_nn':\n",
    "            for i in range(len(self.population)//2):\n",
    "                lst_of_parents.append(d_functions[\"parent_selection_type\"](self.population, \n",
    "                                                                           self.fitnesses, \n",
    "                                                                           i,\n",
    "                                                                           self.d))\n",
    "        else:       \n",
    "            for i in range(len(self.population)//2):\n",
    "                lst_of_parents.append(self.d_functions[\"parent_selection_type\"](self.population, self.fitnesses))\n",
    "                \n",
    "        return lst_of_parents\n",
    "            \n",
    "    def cross(self, parent1, parent2):\n",
    "        \"\"\"\n",
    "        Функция скрещивания\n",
    "        Принимает двух родителей и с соотв. вероятностью\n",
    "        скрещивает их\n",
    "        Дергает функцию скрещивания\n",
    "        Возвращает двух особей-детей или список из 2 None,\n",
    "        если скрещивание не удалось\n",
    "        \"\"\"\n",
    "        c = random.random()\n",
    "        if c < self.p_cross:\n",
    "            return self.d_functions[\"cross_type\"](parent1,parent2)\n",
    "        else:\n",
    "            return [None,None]\n",
    "        \n",
    "    def mutation(self,osob):\n",
    "        \"\"\"\n",
    "        Функция, проводящая мутацию с конкретной особью с\n",
    "        соответствующей вероятностью\n",
    "        Получает на вход особь\n",
    "        Дергает функцию мутации\n",
    "        Возвращает мутированную особь\n",
    "        \"\"\"\n",
    "        c = random.random()\n",
    "        if c < self.p_mutation:\n",
    "            return self.d_functions[\"mutation_type\"](self.d, osob)\n",
    "        else:\n",
    "            return osob\n",
    "                \n",
    "    def select_new_population(self):\n",
    "        \"\"\"\n",
    "        Функция, отбирающая из смешанной популяции\n",
    "        родителей и детей size_of_population особей\n",
    "        Дергает функцию выбора в новую популяцию\n",
    "        Возвращает новую популяцию\n",
    "        \"\"\"\n",
    "        return self.d_functions[\"select_new_population_type\"](self.population, self.fitnesses, self.d)\n",
    "            \n",
    "\n",
    "    def fit(self):\n",
    "        \"\"\"\n",
    "        Главный метод всего алгоритма, который \n",
    "        непосредственно проводит ГА и использует\n",
    "        все предшествующие функции.\n",
    "        ПЕчатает приспособленности на каждой итерации,\n",
    "        возвращает 5 самых приспособленных особей\n",
    "        \"\"\"\n",
    "        cnt = 0\n",
    "        self.generate()\n",
    "        self.population = list(filter(lambda osob: self.validation(osob), self.population)) # на всякий случай\n",
    "        prev_fitness_all = float(\"-Inf\")\n",
    "        self.fitnesses = [self.fitness_one(osob) for osob in self.population]\n",
    "        new_fitness_all = self.fitness_all()\n",
    "        now = datetime.now().strftime('%Y-%m-%d %H:%M:%S')\n",
    "        print (f\"{now} После {cnt} итераций приспособленность популяции равна {new_fitness_all}\")\n",
    "        \n",
    "        while (cnt < self.n_iter) or (new_fitness_all - prev_fitness_all > self.eps):\n",
    "            \n",
    "            prev_fitness_all = new_fitness_all\n",
    "            prev_fitnesses = copy.deepcopy(self.fitnesses)\n",
    "            prev_population = copy.deepcopy(self.population)\n",
    "            cnt += 1\n",
    "            \n",
    "            lst_of_parents = self.choose_parent()\n",
    "          \n",
    "            lst_of_children = []\n",
    "            for pair in lst_of_parents:\n",
    "                child1, child2 = (self.cross(self.population[pair[0]], self.population[pair[1]]))\n",
    "                if child1 is not None and self.validation(child1):\n",
    "                    self.population.append(child1)\n",
    "                    self.fitnesses.append(self.fitness_one(child1))\n",
    "                if child2 is not None and self.validation(child2):\n",
    "                    self.population.append(child2)\n",
    "                    self.fitnesses.append(self.fitness_one(child2))\n",
    "                    \n",
    "            \n",
    "            tmp_population = copy.deepcopy(self.population)\n",
    "            \n",
    "            for i,osob in enumerate(self.population):\n",
    "                osob = self.mutation(osob)\n",
    "                if self.validation(osob):\n",
    "                    if osob != tmp_population[i]:\n",
    "                        self.fitnesses[i] = self.fitness_one(osob)\n",
    "                else:\n",
    "                    self.fitnesses[i] = None\n",
    "          \n",
    "            self.population= list(filter(lambda osob: self.validation(osob), self.population))\n",
    "            self.fitnesses = list(filter(lambda fitness: fitness is not None, self.fitnesses))\n",
    "          \n",
    "            self.population, self.fitnesses = self.select_new_population()\n",
    "            new_fitness_all = self.fitness_all()\n",
    "            now = datetime.now().strftime('%Y-%m-%d %H:%M:%S')\n",
    "            print (f\"{now} После {cnt} итераций приспособленность популяции равна {new_fitness_all}\")\n",
    "            \n",
    "            if new_fitness_all - prev_fitness_all < 0:\n",
    "                self.population = prev_population\n",
    "                self.fitnesses  = prev_fitnesses\n",
    "                new_fitness_all = prev_fitness_all\n",
    "\n",
    "        now = datetime.now().strftime('%Y-%m-%d %H:%M:%S')    \n",
    "        print (f\"{now}: Окончательная общая приспособленность\", new_fitness_all)\n",
    "        print ('-'*70)\n",
    "        print (\"Таблица результатов\")\n",
    "        for i in range(len(self.population)):\n",
    "            print (self.population[i], self.fitnesses[i])\n",
    "            # print (self.fitness_one(self.population[i]),self.fitnesses[i])\n",
    "        return self.population[:5]"
   ]
  },
  {
   "cell_type": "markdown",
   "metadata": {},
   "source": [
    "### Инициализация экземпляра класса"
   ]
  },
  {
   "cell_type": "code",
   "execution_count": 32,
   "metadata": {},
   "outputs": [],
   "source": [
    "ga = GA(menu.options, d_task, d_functions) "
   ]
  },
  {
   "cell_type": "markdown",
   "metadata": {},
   "source": [
    "### Проведение эволюционного алгоритма"
   ]
  },
  {
   "cell_type": "code",
   "execution_count": 33,
   "metadata": {},
   "outputs": [
    {
     "name": "stdout",
     "output_type": "stream",
     "text": [
      "После 0 итераций приспособленность популяции равна 0.7309139009139008\n",
      "После 1 итераций приспособленность популяции равна 0.7767857142857146\n",
      "После 2 итераций приспособленность популяции равна 0.7993201058201062\n",
      "После 3 итераций приспособленность популяции равна 0.8052195767195766\n",
      "После 4 итераций приспособленность популяции равна 0.8137169312169317\n",
      "После 5 итераций приспособленность популяции равна 0.8230291005291006\n",
      "После 6 итераций приспособленность популяции равна 0.8289497354497355\n",
      "После 7 итераций приспособленность популяции равна 0.8363571428571429\n",
      "После 8 итераций приспособленность популяции равна 0.8361375661375661\n",
      "Окончательная общая приспособленность 0.8363571428571429\n",
      "----------------------------------------------------------------------\n",
      "Таблица результатов\n",
      "[0, 0, 0, 0, 0, 0, 1, 0, 0, 1, 0, 0, 1] 0.9\n",
      "[0, 0, 0, 0, 0, 0, 1, 0, 1, 1, 0, 0, 1] 0.8703703703703705\n",
      "[0, 1, 0, 0, 0, 0, 1, 0, 0, 1, 0, 0, 1] 0.8703703703703705\n",
      "[1, 0, 0, 0, 0, 0, 0, 0, 0, 0, 1, 0, 1] 0.8629629629629629\n",
      "[1, 0, 0, 0, 1, 0, 1, 0, 0, 0, 0, 0, 0] 0.8629629629629629\n",
      "[1, 1, 0, 0, 0, 0, 0, 0, 0, 0, 1, 1, 1] 0.8564814814814815\n",
      "[1, 1, 0, 0, 0, 1, 0, 0, 0, 1, 0, 0, 1] 0.8564814814814815\n",
      "[1, 0, 0, 0, 0, 0, 1, 0, 0, 1, 0, 1, 0] 0.8518518518518519\n",
      "[1, 1, 0, 0, 0, 0, 0, 0, 0, 0, 1, 0, 1] 0.8518518518518519\n",
      "[1, 0, 0, 0, 0, 0, 1, 0, 0, 1, 0, 0, 1] 0.8518518518518519\n",
      "[0, 0, 0, 1, 0, 0, 1, 0, 0, 0, 0, 0, 1] 0.8444444444444444\n",
      "[0, 0, 0, 1, 0, 0, 0, 0, 0, 0, 1, 0, 1] 0.8444444444444444\n",
      "[0, 0, 0, 0, 0, 0, 0, 0, 1, 1, 0, 0, 1] 0.8444444444444444\n",
      "[0, 0, 0, 1, 0, 0, 1, 0, 0, 0, 0, 0, 1] 0.8444444444444444\n",
      "[1, 1, 1, 0, 0, 0, 1, 0, 0, 1, 0, 0, 1] 0.8386243386243386\n",
      "[1, 1, 0, 0, 0, 0, 1, 0, 1, 1, 0, 0, 1] 0.8386243386243386\n",
      "[1, 1, 1, 0, 0, 0, 1, 0, 0, 1, 0, 0, 1] 0.8386243386243386\n",
      "[1, 1, 0, 0, 0, 0, 1, 0, 0, 1, 0, 1, 1] 0.8386243386243386\n",
      "[0, 0, 0, 0, 0, 1, 1, 0, 0, 1, 1, 1, 1] 0.8386243386243386\n",
      "[1, 1, 0, 0, 0, 1, 1, 0, 0, 1, 0, 0, 1] 0.8386243386243386\n",
      "[1, 1, 1, 0, 0, 0, 1, 0, 0, 1, 0, 0, 1] 0.8386243386243386\n",
      "[1, 1, 0, 0, 0, 0, 1, 0, 0, 0, 1, 0, 1] 0.8379629629629629\n",
      "[1, 1, 0, 0, 0, 0, 1, 1, 0, 0, 1, 0, 0] 0.8379629629629629\n",
      "[1, 1, 0, 0, 0, 1, 0, 0, 0, 1, 0, 1, 0] 0.8379629629629629\n",
      "[1, 1, 0, 0, 0, 1, 0, 0, 0, 1, 1, 0, 0] 0.8379629629629629\n",
      "[1, 0, 0, 0, 0, 0, 1, 1, 0, 1, 0, 0, 1] 0.8379629629629629\n",
      "[1, 1, 0, 0, 0, 0, 1, 1, 0, 0, 1, 0, 0] 0.8379629629629629\n",
      "[1, 1, 0, 0, 0, 0, 1, 0, 0, 0, 1, 0, 1] 0.8379629629629629\n",
      "[1, 1, 1, 0, 0, 0, 1, 0, 0, 1, 0, 0, 0] 0.8379629629629629\n",
      "[0, 0, 0, 1, 0, 0, 1, 0, 0, 0, 0, 1, 1] 0.8333333333333333\n",
      "[0, 0, 0, 0, 0, 1, 1, 0, 0, 0, 0, 1, 1] 0.8333333333333333\n",
      "[0, 1, 0, 0, 0, 0, 0, 0, 0, 1, 1, 0, 1] 0.8333333333333333\n",
      "[1, 0, 0, 0, 0, 0, 1, 1, 0, 0, 1, 0, 0] 0.8333333333333333\n",
      "[1, 1, 0, 1, 0, 1, 0, 1, 0, 1, 0, 0, 0] 0.82010582010582\n",
      "[1, 0, 1, 0, 0, 1, 0, 1, 0, 0, 1, 1, 0] 0.82010582010582\n",
      "[0, 0, 1, 1, 0, 0, 1, 0, 0, 0, 1, 1, 1] 0.82010582010582\n",
      "[1, 1, 0, 0, 0, 1, 1, 0, 1, 1, 0, 0, 0] 0.82010582010582\n",
      "[0, 0, 1, 1, 0, 0, 0, 0, 1, 1, 0, 1, 1] 0.82010582010582\n",
      "[1, 1, 0, 0, 0, 0, 1, 0, 0, 0, 1, 1, 1] 0.82010582010582\n",
      "[1, 1, 0, 0, 0, 1, 0, 0, 0, 0, 1, 0, 1] 0.8194444444444444\n",
      "[1, 0, 1, 0, 1, 0, 0, 1, 0, 0, 1, 0, 0] 0.8194444444444444\n",
      "[1, 1, 0, 0, 0, 1, 0, 0, 0, 0, 1, 0, 1] 0.8194444444444444\n",
      "[0, 0, 0, 0, 0, 0, 1, 1, 0, 1, 0, 0, 1] 0.8148148148148149\n",
      "[1, 1, 0, 0, 0, 1, 0, 0, 0, 1, 1, 1, 1] 0.8148148148148149\n",
      "[1, 1, 0, 1, 0, 0, 0, 0, 0, 1, 0, 0, 0] 0.8148148148148149\n",
      "[1, 0, 0, 0, 0, 0, 1, 1, 1, 1, 1, 0, 1] 0.8148148148148149\n",
      "[1, 1, 0, 0, 0, 1, 0, 1, 0, 1, 1, 0, 1] 0.8148148148148149\n",
      "[1, 0, 0, 0, 0, 0, 0, 0, 1, 0, 0, 1, 1] 0.8148148148148149\n",
      "[1, 1, 0, 0, 0, 1, 1, 1, 0, 1, 0, 0, 1] 0.8148148148148149\n",
      "[1, 1, 1, 0, 0, 0, 1, 0, 0, 0, 1, 1, 1] 0.8148148148148149\n"
     ]
    },
    {
     "data": {
      "text/plain": [
       "[[0, 0, 0, 0, 0, 0, 1, 0, 0, 1, 0, 0, 1],\n",
       " [0, 0, 0, 0, 0, 0, 1, 0, 1, 1, 0, 0, 1],\n",
       " [0, 1, 0, 0, 0, 0, 1, 0, 0, 1, 0, 0, 1],\n",
       " [1, 0, 0, 0, 0, 0, 0, 0, 0, 0, 1, 0, 1],\n",
       " [1, 0, 0, 0, 1, 0, 1, 0, 0, 0, 0, 0, 0]]"
      ]
     },
     "execution_count": 33,
     "metadata": {},
     "output_type": "execute_result"
    }
   ],
   "source": [
    "ga.fit()"
   ]
  },
  {
   "cell_type": "markdown",
   "metadata": {},
   "source": [
    "### Если алгоритм верный и данные хорошие, приспособленность все время будет расти"
   ]
  }
 ],
 "metadata": {
  "kernelspec": {
   "display_name": "Python 3",
   "language": "python",
   "name": "python3"
  },
  "language_info": {
   "codemirror_mode": {
    "name": "ipython",
    "version": 3
   },
   "file_extension": ".py",
   "mimetype": "text/x-python",
   "name": "python",
   "nbconvert_exporter": "python",
   "pygments_lexer": "ipython3",
   "version": "3.7.1"
  }
 },
 "nbformat": 4,
 "nbformat_minor": 2
}
